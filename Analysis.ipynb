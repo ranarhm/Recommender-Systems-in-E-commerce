{
 "cells": [
  {
   "cell_type": "code",
   "execution_count": null,
   "id": "bf1f2df7",
   "metadata": {},
   "outputs": [],
   "source": [
    "import os\n",
    "import pandas as pd\n",
    "import numpy as np\n",
    "import networkx as nx\n",
    "import operator\n",
    "from prettytable import PrettyTable\n",
    "import matplotlib.pyplot as plt\n",
    "from matplotlib.pyplot import subplots\n",
    "import seaborn as sns\n",
    "from collections import Counter, defaultdict\n",
    "from bokeh.io import show, output_file\n",
    "from bokeh.plotting import figure\n",
    "import community\n",
    "from networkx.drawing.nx_agraph import graphviz_layout\n",
    "\n",
    "sns.set()\n",
    "%matplotlib inline"
   ]
  },
  {
   "cell_type": "markdown",
   "id": "99dbd9a5",
   "metadata": {},
   "source": [
    "## Load Data"
   ]
  },
  {
   "cell_type": "code",
   "execution_count": 2,
   "id": "e4512459",
   "metadata": {},
   "outputs": [
    {
     "name": "stdout",
     "output_type": "stream",
     "text": [
      "['com-amazon.all.dedup.cmty.txt', '.DS_Store', 'amazon-meta.txt.gz', 'amazon-meta.txt', 'com-amazon.top5000.cmty.txt', 'products_data.csv', 'products_copurchases_links.csv', 'Amazon0302.txt', 'com-amazon.ungraph.txt']\n"
     ]
    }
   ],
   "source": [
    "dataset_dir = \"/Users/rana/Documents/School/Spring23/Social Media Analytics-CS5664/Homeworks/Project/datasets\"\n",
    "print(os.listdir(dataset_dir))"
   ]
  },
  {
   "cell_type": "code",
   "execution_count": 3,
   "id": "7b6444c9",
   "metadata": {},
   "outputs": [],
   "source": [
    "product_data_file = \"products_data.csv\"\n",
    "prod_path = os.path.join(dataset_dir, product_data_file)\n",
    "df = pd.read_csv(prod_path, encoding=\"unicode_escape\")"
   ]
  },
  {
   "cell_type": "code",
   "execution_count": 4,
   "id": "a85fcd87",
   "metadata": {},
   "outputs": [
    {
     "data": {
      "text/html": [
       "<div>\n",
       "<style scoped>\n",
       "    .dataframe tbody tr th:only-of-type {\n",
       "        vertical-align: middle;\n",
       "    }\n",
       "\n",
       "    .dataframe tbody tr th {\n",
       "        vertical-align: top;\n",
       "    }\n",
       "\n",
       "    .dataframe thead th {\n",
       "        text-align: right;\n",
       "    }\n",
       "</style>\n",
       "<table border=\"1\" class=\"dataframe\">\n",
       "  <thead>\n",
       "    <tr style=\"text-align: right;\">\n",
       "      <th></th>\n",
       "      <th>id</th>\n",
       "      <th>asin</th>\n",
       "      <th>title</th>\n",
       "      <th>group</th>\n",
       "      <th>salesrank</th>\n",
       "      <th>review_cnt</th>\n",
       "      <th>downloads</th>\n",
       "      <th>rating</th>\n",
       "    </tr>\n",
       "  </thead>\n",
       "  <tbody>\n",
       "    <tr>\n",
       "      <th>0</th>\n",
       "      <td>1</td>\n",
       "      <td>0827229534</td>\n",
       "      <td>Patterns of Preaching: A Sermon Sampler</td>\n",
       "      <td>Book</td>\n",
       "      <td>396585</td>\n",
       "      <td>2</td>\n",
       "      <td>2</td>\n",
       "      <td>5.0</td>\n",
       "    </tr>\n",
       "    <tr>\n",
       "      <th>1</th>\n",
       "      <td>2</td>\n",
       "      <td>0738700797</td>\n",
       "      <td>Candlemas: Feast of Flames</td>\n",
       "      <td>Book</td>\n",
       "      <td>168596</td>\n",
       "      <td>12</td>\n",
       "      <td>12</td>\n",
       "      <td>4.5</td>\n",
       "    </tr>\n",
       "    <tr>\n",
       "      <th>2</th>\n",
       "      <td>3</td>\n",
       "      <td>0486287785</td>\n",
       "      <td>World War II Allied Fighter Planes Trading Cards</td>\n",
       "      <td>Book</td>\n",
       "      <td>1270652</td>\n",
       "      <td>1</td>\n",
       "      <td>1</td>\n",
       "      <td>5.0</td>\n",
       "    </tr>\n",
       "    <tr>\n",
       "      <th>3</th>\n",
       "      <td>4</td>\n",
       "      <td>0842328327</td>\n",
       "      <td>Life Application Bible Commentary: 1 and 2 Tim...</td>\n",
       "      <td>Book</td>\n",
       "      <td>631289</td>\n",
       "      <td>1</td>\n",
       "      <td>1</td>\n",
       "      <td>4.0</td>\n",
       "    </tr>\n",
       "    <tr>\n",
       "      <th>4</th>\n",
       "      <td>5</td>\n",
       "      <td>1577943082</td>\n",
       "      <td>Prayers That Avail Much for Business: Executive</td>\n",
       "      <td>Book</td>\n",
       "      <td>455160</td>\n",
       "      <td>0</td>\n",
       "      <td>0</td>\n",
       "      <td>0.0</td>\n",
       "    </tr>\n",
       "  </tbody>\n",
       "</table>\n",
       "</div>"
      ],
      "text/plain": [
       "   id        asin                                              title group  \\\n",
       "0   1  0827229534            Patterns of Preaching: A Sermon Sampler  Book   \n",
       "1   2  0738700797                         Candlemas: Feast of Flames  Book   \n",
       "2   3  0486287785   World War II Allied Fighter Planes Trading Cards  Book   \n",
       "3   4  0842328327  Life Application Bible Commentary: 1 and 2 Tim...  Book   \n",
       "4   5  1577943082    Prayers That Avail Much for Business: Executive  Book   \n",
       "\n",
       "   salesrank  review_cnt  downloads  rating  \n",
       "0     396585           2          2     5.0  \n",
       "1     168596          12         12     4.5  \n",
       "2    1270652           1          1     5.0  \n",
       "3     631289           1          1     4.0  \n",
       "4     455160           0          0     0.0  "
      ]
     },
     "execution_count": 4,
     "metadata": {},
     "output_type": "execute_result"
    }
   ],
   "source": [
    "df.head()"
   ]
  },
  {
   "cell_type": "code",
   "execution_count": 5,
   "id": "3f589bdb",
   "metadata": {},
   "outputs": [],
   "source": [
    "product_links_file = \"products_copurchases_links.csv\"\n",
    "prod_graph_path = os.path.join(dataset_dir, product_links_file)\n",
    "df_graph = pd.read_csv(prod_graph_path, encoding=\"unicode_escape\")"
   ]
  },
  {
   "cell_type": "markdown",
   "id": "394753c3",
   "metadata": {},
   "source": [
    "## Understanding Data"
   ]
  },
  {
   "cell_type": "code",
   "execution_count": 6,
   "id": "809e1113",
   "metadata": {
    "scrolled": true
   },
   "outputs": [
    {
     "data": {
      "text/html": [
       "<div>\n",
       "<style scoped>\n",
       "    .dataframe tbody tr th:only-of-type {\n",
       "        vertical-align: middle;\n",
       "    }\n",
       "\n",
       "    .dataframe tbody tr th {\n",
       "        vertical-align: top;\n",
       "    }\n",
       "\n",
       "    .dataframe thead th {\n",
       "        text-align: right;\n",
       "    }\n",
       "</style>\n",
       "<table border=\"1\" class=\"dataframe\">\n",
       "  <thead>\n",
       "    <tr style=\"text-align: right;\">\n",
       "      <th></th>\n",
       "      <th>source</th>\n",
       "      <th>destination</th>\n",
       "    </tr>\n",
       "  </thead>\n",
       "  <tbody>\n",
       "    <tr>\n",
       "      <th>0</th>\n",
       "      <td>1</td>\n",
       "      <td>161555</td>\n",
       "    </tr>\n",
       "    <tr>\n",
       "      <th>1</th>\n",
       "      <td>1</td>\n",
       "      <td>244916</td>\n",
       "    </tr>\n",
       "    <tr>\n",
       "      <th>2</th>\n",
       "      <td>1</td>\n",
       "      <td>118052</td>\n",
       "    </tr>\n",
       "    <tr>\n",
       "      <th>3</th>\n",
       "      <td>1</td>\n",
       "      <td>444232</td>\n",
       "    </tr>\n",
       "    <tr>\n",
       "      <th>4</th>\n",
       "      <td>1</td>\n",
       "      <td>500600</td>\n",
       "    </tr>\n",
       "  </tbody>\n",
       "</table>\n",
       "</div>"
      ],
      "text/plain": [
       "   source  destination\n",
       "0       1       161555\n",
       "1       1       244916\n",
       "2       1       118052\n",
       "3       1       444232\n",
       "4       1       500600"
      ]
     },
     "execution_count": 6,
     "metadata": {},
     "output_type": "execute_result"
    }
   ],
   "source": [
    "df_graph.head()"
   ]
  },
  {
   "cell_type": "code",
   "execution_count": 7,
   "id": "6be016f2",
   "metadata": {},
   "outputs": [
    {
     "data": {
      "text/plain": [
       "(542683, 8)"
      ]
     },
     "execution_count": 7,
     "metadata": {},
     "output_type": "execute_result"
    }
   ],
   "source": [
    "df.shape"
   ]
  },
  {
   "cell_type": "code",
   "execution_count": 8,
   "id": "610c88c4",
   "metadata": {},
   "outputs": [
    {
     "name": "stdout",
     "output_type": "stream",
     "text": [
      "<class 'pandas.core.frame.DataFrame'>\n",
      "RangeIndex: 542683 entries, 0 to 542682\n",
      "Data columns (total 8 columns):\n",
      " #   Column      Non-Null Count   Dtype  \n",
      "---  ------      --------------   -----  \n",
      " 0   id          542683 non-null  int64  \n",
      " 1   asin        542683 non-null  object \n",
      " 2   title       542683 non-null  object \n",
      " 3   group       542683 non-null  object \n",
      " 4   salesrank   542683 non-null  int64  \n",
      " 5   review_cnt  542683 non-null  int64  \n",
      " 6   downloads   542683 non-null  int64  \n",
      " 7   rating      542683 non-null  float64\n",
      "dtypes: float64(1), int64(4), object(3)\n",
      "memory usage: 33.1+ MB\n"
     ]
    }
   ],
   "source": [
    "df.info()"
   ]
  },
  {
   "cell_type": "code",
   "execution_count": 9,
   "id": "7122d915",
   "metadata": {
    "scrolled": true
   },
   "outputs": [
    {
     "data": {
      "text/plain": [
       "array(['Book', 'Music', 'DVD', 'Video', 'Toy', 'Software', 'Baby', 'CE',\n",
       "       'Sports', 'A'], dtype=object)"
      ]
     },
     "execution_count": 9,
     "metadata": {},
     "output_type": "execute_result"
    }
   ],
   "source": [
    "df[\"group\"].unique()"
   ]
  },
  {
   "cell_type": "code",
   "execution_count": 10,
   "id": "d5461429",
   "metadata": {},
   "outputs": [
    {
     "data": {
      "text/plain": [
       "Book        393560\n",
       "Music       103143\n",
       "Video        26132\n",
       "DVD          19828\n",
       "Toy              8\n",
       "Software         5\n",
       "CE               4\n",
       "Baby             1\n",
       "Sports           1\n",
       "A                1\n",
       "Name: group, dtype: int64"
      ]
     },
     "execution_count": 10,
     "metadata": {},
     "output_type": "execute_result"
    }
   ],
   "source": [
    "df[\"group\"].value_counts()"
   ]
  },
  {
   "cell_type": "code",
   "execution_count": 11,
   "id": "7b45f172",
   "metadata": {},
   "outputs": [
    {
     "data": {
      "text/plain": [
       "array([5. , 4.5, 4. , 0. , 3.5, 3. , 1. , 2.5, 2. , 1.5])"
      ]
     },
     "execution_count": 11,
     "metadata": {},
     "output_type": "execute_result"
    }
   ],
   "source": [
    "df['rating'].unique()"
   ]
  },
  {
   "cell_type": "code",
   "execution_count": 12,
   "id": "f7f5d9b8",
   "metadata": {},
   "outputs": [
    {
     "data": {
      "text/plain": [
       "array([ 396585,  168596, 1270652, ...,  229742,   55228,       0])"
      ]
     },
     "execution_count": 12,
     "metadata": {},
     "output_type": "execute_result"
    }
   ],
   "source": [
    "df['salesrank'].unique()"
   ]
  },
  {
   "cell_type": "code",
   "execution_count": 13,
   "id": "7bb4228a",
   "metadata": {
    "scrolled": true
   },
   "outputs": [
    {
     "data": {
      "text/plain": [
       "-1          459\n",
       " 0           40\n",
       " 6516         9\n",
       " 8895         9\n",
       " 5926         9\n",
       "           ... \n",
       " 415242       1\n",
       " 404997       1\n",
       " 2141076      1\n",
       " 648700       1\n",
       " 2047         1\n",
       "Name: salesrank, Length: 411707, dtype: int64"
      ]
     },
     "execution_count": 13,
     "metadata": {},
     "output_type": "execute_result"
    }
   ],
   "source": [
    "df['salesrank'].value_counts()"
   ]
  },
  {
   "cell_type": "code",
   "execution_count": 14,
   "id": "547a29a2",
   "metadata": {},
   "outputs": [
    {
     "data": {
      "text/html": [
       "<div>\n",
       "<style scoped>\n",
       "    .dataframe tbody tr th:only-of-type {\n",
       "        vertical-align: middle;\n",
       "    }\n",
       "\n",
       "    .dataframe tbody tr th {\n",
       "        vertical-align: top;\n",
       "    }\n",
       "\n",
       "    .dataframe thead th {\n",
       "        text-align: right;\n",
       "    }\n",
       "</style>\n",
       "<table border=\"1\" class=\"dataframe\">\n",
       "  <thead>\n",
       "    <tr style=\"text-align: right;\">\n",
       "      <th></th>\n",
       "      <th>id</th>\n",
       "      <th>asin</th>\n",
       "      <th>title</th>\n",
       "      <th>group</th>\n",
       "      <th>salesrank</th>\n",
       "      <th>review_cnt</th>\n",
       "      <th>downloads</th>\n",
       "      <th>rating</th>\n",
       "    </tr>\n",
       "  </thead>\n",
       "  <tbody>\n",
       "    <tr>\n",
       "      <th>688</th>\n",
       "      <td>693</td>\n",
       "      <td>1853461822</td>\n",
       "      <td>Labour and Locality: Uneven Development and th...</td>\n",
       "      <td>Book</td>\n",
       "      <td>-1</td>\n",
       "      <td>0</td>\n",
       "      <td>0</td>\n",
       "      <td>0.0</td>\n",
       "    </tr>\n",
       "    <tr>\n",
       "      <th>1709</th>\n",
       "      <td>1727</td>\n",
       "      <td>0780357213</td>\n",
       "      <td>Vehicular Technology 51st Conference Proceedings</td>\n",
       "      <td>Book</td>\n",
       "      <td>-1</td>\n",
       "      <td>0</td>\n",
       "      <td>0</td>\n",
       "      <td>0.0</td>\n",
       "    </tr>\n",
       "    <tr>\n",
       "      <th>1817</th>\n",
       "      <td>1837</td>\n",
       "      <td>B00005663X</td>\n",
       "      <td>Uncovered</td>\n",
       "      <td>Music</td>\n",
       "      <td>-1</td>\n",
       "      <td>0</td>\n",
       "      <td>0</td>\n",
       "      <td>0.0</td>\n",
       "    </tr>\n",
       "    <tr>\n",
       "      <th>2596</th>\n",
       "      <td>2617</td>\n",
       "      <td>1880608014</td>\n",
       "      <td>DIMENSIONS OF FAITH</td>\n",
       "      <td>Book</td>\n",
       "      <td>-1</td>\n",
       "      <td>0</td>\n",
       "      <td>0</td>\n",
       "      <td>0.0</td>\n",
       "    </tr>\n",
       "    <tr>\n",
       "      <th>2972</th>\n",
       "      <td>2996</td>\n",
       "      <td>0467700036</td>\n",
       "      <td>Fracture Mechanics</td>\n",
       "      <td>Book</td>\n",
       "      <td>-1</td>\n",
       "      <td>0</td>\n",
       "      <td>0</td>\n",
       "      <td>0.0</td>\n",
       "    </tr>\n",
       "    <tr>\n",
       "      <th>...</th>\n",
       "      <td>...</td>\n",
       "      <td>...</td>\n",
       "      <td>...</td>\n",
       "      <td>...</td>\n",
       "      <td>...</td>\n",
       "      <td>...</td>\n",
       "      <td>...</td>\n",
       "      <td>...</td>\n",
       "    </tr>\n",
       "    <tr>\n",
       "      <th>505982</th>\n",
       "      <td>511781</td>\n",
       "      <td>0801848717</td>\n",
       "      <td>Mapping the Renaissance World</td>\n",
       "      <td>Book</td>\n",
       "      <td>-1</td>\n",
       "      <td>0</td>\n",
       "      <td>0</td>\n",
       "      <td>0.0</td>\n",
       "    </tr>\n",
       "    <tr>\n",
       "      <th>510065</th>\n",
       "      <td>515906</td>\n",
       "      <td>B00000II35</td>\n",
       "      <td>Love Existence</td>\n",
       "      <td>Music</td>\n",
       "      <td>-1</td>\n",
       "      <td>0</td>\n",
       "      <td>0</td>\n",
       "      <td>0.0</td>\n",
       "    </tr>\n",
       "    <tr>\n",
       "      <th>518460</th>\n",
       "      <td>524308</td>\n",
       "      <td>B0000037O4</td>\n",
       "      <td>Pussy  King of the Pirates</td>\n",
       "      <td>Music</td>\n",
       "      <td>-1</td>\n",
       "      <td>7</td>\n",
       "      <td>7</td>\n",
       "      <td>3.5</td>\n",
       "    </tr>\n",
       "    <tr>\n",
       "      <th>527012</th>\n",
       "      <td>532869</td>\n",
       "      <td>0738519057</td>\n",
       "      <td>Napa County Wineries</td>\n",
       "      <td>Book</td>\n",
       "      <td>-1</td>\n",
       "      <td>3</td>\n",
       "      <td>3</td>\n",
       "      <td>5.0</td>\n",
       "    </tr>\n",
       "    <tr>\n",
       "      <th>542641</th>\n",
       "      <td>548509</td>\n",
       "      <td>B00005AUTO</td>\n",
       "      <td>Door Door</td>\n",
       "      <td>Music</td>\n",
       "      <td>-1</td>\n",
       "      <td>1</td>\n",
       "      <td>1</td>\n",
       "      <td>5.0</td>\n",
       "    </tr>\n",
       "  </tbody>\n",
       "</table>\n",
       "<p>459 rows × 8 columns</p>\n",
       "</div>"
      ],
      "text/plain": [
       "            id        asin                                              title  \\\n",
       "688        693  1853461822  Labour and Locality: Uneven Development and th...   \n",
       "1709      1727  0780357213   Vehicular Technology 51st Conference Proceedings   \n",
       "1817      1837  B00005663X                                          Uncovered   \n",
       "2596      2617  1880608014                                DIMENSIONS OF FAITH   \n",
       "2972      2996  0467700036                                 Fracture Mechanics   \n",
       "...        ...         ...                                                ...   \n",
       "505982  511781  0801848717                      Mapping the Renaissance World   \n",
       "510065  515906  B00000II35                                     Love Existence   \n",
       "518460  524308  B0000037O4                         Pussy  King of the Pirates   \n",
       "527012  532869  0738519057                               Napa County Wineries   \n",
       "542641  548509  B00005AUTO                                          Door Door   \n",
       "\n",
       "        group  salesrank  review_cnt  downloads  rating  \n",
       "688      Book         -1           0          0     0.0  \n",
       "1709     Book         -1           0          0     0.0  \n",
       "1817    Music         -1           0          0     0.0  \n",
       "2596     Book         -1           0          0     0.0  \n",
       "2972     Book         -1           0          0     0.0  \n",
       "...       ...        ...         ...        ...     ...  \n",
       "505982   Book         -1           0          0     0.0  \n",
       "510065  Music         -1           0          0     0.0  \n",
       "518460  Music         -1           7          7     3.5  \n",
       "527012   Book         -1           3          3     5.0  \n",
       "542641  Music         -1           1          1     5.0  \n",
       "\n",
       "[459 rows x 8 columns]"
      ]
     },
     "execution_count": 14,
     "metadata": {},
     "output_type": "execute_result"
    }
   ],
   "source": [
    "df[df[\"salesrank\"]==-1]"
   ]
  },
  {
   "cell_type": "markdown",
   "id": "4728c9e2",
   "metadata": {},
   "source": [
    "we can drop products with (-1) sales rank which may not be helpful in our analysis"
   ]
  },
  {
   "cell_type": "code",
   "execution_count": 15,
   "id": "f7de8779",
   "metadata": {},
   "outputs": [],
   "source": [
    "df = df.query(\"salesrank != -1\")"
   ]
  },
  {
   "cell_type": "code",
   "execution_count": 16,
   "id": "fd67a700",
   "metadata": {},
   "outputs": [
    {
     "data": {
      "text/plain": [
       "(0, 3798351)"
      ]
     },
     "execution_count": 16,
     "metadata": {},
     "output_type": "execute_result"
    }
   ],
   "source": [
    "df[\"salesrank\"].min(), df[\"salesrank\"].max()"
   ]
  },
  {
   "cell_type": "markdown",
   "id": "8999339a",
   "metadata": {},
   "source": [
    "creating a dataframe for books where their sales rank is under 100000"
   ]
  },
  {
   "cell_type": "code",
   "execution_count": 17,
   "id": "b0dc52d2",
   "metadata": {},
   "outputs": [],
   "source": [
    "df_books = df[\n",
    "    (df[\"group\"] == \"Book\") &\n",
    "    (df[\"salesrank\"] <= 100000)\n",
    "]"
   ]
  },
  {
   "cell_type": "code",
   "execution_count": 18,
   "id": "81ecd71f",
   "metadata": {},
   "outputs": [
    {
     "data": {
      "text/plain": [
       "(51712, 8)"
      ]
     },
     "execution_count": 18,
     "metadata": {},
     "output_type": "execute_result"
    }
   ],
   "source": [
    "df_books.shape"
   ]
  },
  {
   "cell_type": "code",
   "execution_count": 19,
   "id": "63bad8a8",
   "metadata": {},
   "outputs": [
    {
     "data": {
      "text/plain": [
       "4.5    15858\n",
       "5.0    14537\n",
       "4.0    10461\n",
       "3.5     4250\n",
       "0.0     4063\n",
       "3.0     1725\n",
       "2.5      452\n",
       "2.0      228\n",
       "1.0       87\n",
       "1.5       51\n",
       "Name: rating, dtype: int64"
      ]
     },
     "execution_count": 19,
     "metadata": {},
     "output_type": "execute_result"
    }
   ],
   "source": [
    "df_books['rating'].value_counts()"
   ]
  },
  {
   "cell_type": "code",
   "execution_count": 20,
   "id": "f127aec5",
   "metadata": {},
   "outputs": [
    {
     "data": {
      "image/png": "[encoded data removed]",
      "text/plain": [
       "<Figure size 640x480 with 1 Axes>"
      ]
     },
     "metadata": {},
     "output_type": "display_data"
    }
   ],
   "source": [
    "plt.title(\"Book Rating Plot\")\n",
    "plt.xlabel(\"Rating\")\n",
    "plt.ylabel(\"Number of Books\")\n",
    "plt.bar(dict(df_books['rating'].value_counts()).keys(), dict(df_books['rating'].value_counts()).values(), width=0.6);"
   ]
  },
  {
   "cell_type": "code",
   "execution_count": 21,
   "id": "118fcce2",
   "metadata": {},
   "outputs": [],
   "source": [
    "SALESRANK_TOP = 100000\n",
    "\n",
    "df_music = df[\n",
    "    (df[\"group\"] == \"Music\") &\n",
    "    (df[\"salesrank\"] <= SALESRANK_TOP)\n",
    "]"
   ]
  },
  {
   "cell_type": "code",
   "execution_count": 22,
   "id": "70227738",
   "metadata": {},
   "outputs": [
    {
     "data": {
      "text/plain": [
       "4.5    16477\n",
       "5.0    16332\n",
       "4.0     7454\n",
       "0.0     2429\n",
       "3.5     2139\n",
       "3.0      731\n",
       "2.5      201\n",
       "2.0       70\n",
       "1.0       41\n",
       "1.5       19\n",
       "Name: rating, dtype: int64"
      ]
     },
     "execution_count": 22,
     "metadata": {},
     "output_type": "execute_result"
    }
   ],
   "source": [
    "df_music['rating'].value_counts()"
   ]
  },
  {
   "cell_type": "code",
   "execution_count": 23,
   "id": "991bee59",
   "metadata": {},
   "outputs": [
    {
     "data": {
      "image/png": "[encoded data removed]",
      "text/plain": [
       "<Figure size 640x480 with 1 Axes>"
      ]
     },
     "metadata": {},
     "output_type": "display_data"
    }
   ],
   "source": [
    "plt.title(\"Music Rating Plot\")\n",
    "plt.xlabel(\"Rating\")\n",
    "plt.ylabel(\"Music\")\n",
    "plt.bar(dict(df_music['rating'].value_counts()).keys(), dict(df_music['rating'].value_counts()).values(), width=0.6);"
   ]
  },
  {
   "cell_type": "code",
   "execution_count": 24,
   "id": "b6bca90e",
   "metadata": {
    "scrolled": true
   },
   "outputs": [
    {
     "data": {
      "text/plain": [
       "(1231437, 2)"
      ]
     },
     "execution_count": 24,
     "metadata": {},
     "output_type": "execute_result"
    }
   ],
   "source": [
    "df_graph.shape"
   ]
  },
  {
   "cell_type": "markdown",
   "id": "c60d9ed6",
   "metadata": {},
   "source": [
    "nodes related to the books"
   ]
  },
  {
   "cell_type": "code",
   "execution_count": 25,
   "id": "b344ca4a",
   "metadata": {},
   "outputs": [],
   "source": [
    "df_graph_books = df_graph[\n",
    "    df_graph.source.isin(df_books.id) & \n",
    "    df_graph.destination.isin(df_books.id)\n",
    "]"
   ]
  },
  {
   "cell_type": "code",
   "execution_count": 26,
   "id": "aa05bb44",
   "metadata": {},
   "outputs": [
    {
     "data": {
      "text/html": [
       "<div>\n",
       "<style scoped>\n",
       "    .dataframe tbody tr th:only-of-type {\n",
       "        vertical-align: middle;\n",
       "    }\n",
       "\n",
       "    .dataframe tbody tr th {\n",
       "        vertical-align: top;\n",
       "    }\n",
       "\n",
       "    .dataframe thead th {\n",
       "        text-align: right;\n",
       "    }\n",
       "</style>\n",
       "<table border=\"1\" class=\"dataframe\">\n",
       "  <thead>\n",
       "    <tr style=\"text-align: right;\">\n",
       "      <th></th>\n",
       "      <th>source</th>\n",
       "      <th>destination</th>\n",
       "    </tr>\n",
       "  </thead>\n",
       "  <tbody>\n",
       "    <tr>\n",
       "      <th>39</th>\n",
       "      <td>12</td>\n",
       "      <td>386032</td>\n",
       "    </tr>\n",
       "    <tr>\n",
       "      <th>92</th>\n",
       "      <td>33</td>\n",
       "      <td>119026</td>\n",
       "    </tr>\n",
       "    <tr>\n",
       "      <th>103</th>\n",
       "      <td>39</td>\n",
       "      <td>150250</td>\n",
       "    </tr>\n",
       "    <tr>\n",
       "      <th>104</th>\n",
       "      <td>39</td>\n",
       "      <td>412517</td>\n",
       "    </tr>\n",
       "    <tr>\n",
       "      <th>105</th>\n",
       "      <td>39</td>\n",
       "      <td>517966</td>\n",
       "    </tr>\n",
       "  </tbody>\n",
       "</table>\n",
       "</div>"
      ],
      "text/plain": [
       "     source  destination\n",
       "39       12       386032\n",
       "92       33       119026\n",
       "103      39       150250\n",
       "104      39       412517\n",
       "105      39       517966"
      ]
     },
     "execution_count": 26,
     "metadata": {},
     "output_type": "execute_result"
    }
   ],
   "source": [
    "df_graph_books.head()"
   ]
  },
  {
   "cell_type": "code",
   "execution_count": 27,
   "id": "8e4a7128",
   "metadata": {},
   "outputs": [],
   "source": [
    "graph_book_indegree = df_graph_books.groupby(['destination'])['source'].size().reset_index(name='in_degree')"
   ]
  },
  {
   "cell_type": "code",
   "execution_count": 28,
   "id": "ec6b1575",
   "metadata": {},
   "outputs": [],
   "source": [
    "graph_book_outdegree = df_graph_books.groupby(['source'])['destination'].size().reset_index(name='out_degree')"
   ]
  },
  {
   "cell_type": "code",
   "execution_count": 29,
   "id": "0c7a8d51",
   "metadata": {},
   "outputs": [
    {
     "name": "stdout",
     "output_type": "stream",
     "text": [
      "the in_degree is in the range of 1 and 82\n"
     ]
    }
   ],
   "source": [
    "print(f\"the in_degree is in the range of {graph_book_indegree['in_degree'].min()} and {graph_book_indegree['in_degree'].max()}\")"
   ]
  },
  {
   "cell_type": "code",
   "execution_count": 30,
   "id": "303a1a02",
   "metadata": {},
   "outputs": [
    {
     "name": "stdout",
     "output_type": "stream",
     "text": [
      "the out_degree is in the range of 1 and 5\n"
     ]
    }
   ],
   "source": [
    "print(f\"the out_degree is in the range of {graph_book_outdegree['out_degree'].min()} and {graph_book_outdegree['out_degree'].max()}\")"
   ]
  },
  {
   "cell_type": "markdown",
   "id": "aa23e6b5",
   "metadata": {},
   "source": [
    "getting the top-10 books "
   ]
  },
  {
   "cell_type": "code",
   "execution_count": 31,
   "id": "5597653a",
   "metadata": {},
   "outputs": [],
   "source": [
    "temp_1 = graph_book_outdegree.set_index('source')\n",
    "temp_2 = graph_book_indegree.set_index('destination').rename_axis('source')\n",
    "temp_2.columns = temp_1.columns\n",
    "\n",
    "merged = temp_2.add(temp_1, fill_value=0).loc[temp_2.index, :].reset_index()"
   ]
  },
  {
   "cell_type": "code",
   "execution_count": 32,
   "id": "eb52132d",
   "metadata": {},
   "outputs": [
    {
     "name": "stdout",
     "output_type": "stream",
     "text": [
      "Title: The Great Gatsby\n",
      "Outdegree: 87.0\n",
      "#-----------------------------\n",
      "Title: Diagnostic and Statistical Manual of Mental Disorders DSM-IV-TR (Text Revision) (Diagnostic and Statistical Manual of Mental Disorders)\n",
      "Outdegree: 74.0\n",
      "#-----------------------------\n",
      "Title: Brown Bear  Brown Bear  What Do You See?\n",
      "Outdegree: 74.0\n",
      "#-----------------------------\n",
      "Title: Fireflies (Reading Rainbow)\n",
      "Outdegree: 62.0\n",
      "#-----------------------------\n",
      "Title: The Catcher in the Rye\n",
      "Outdegree: 61.0\n",
      "#-----------------------------\n"
     ]
    }
   ],
   "source": [
    "for _, row in merged.nlargest(10, 'out_degree').iterrows():\n",
    "    title = df.loc[df['id'] == int(row['source']), 'title'].iloc[0]\n",
    "    \n",
    "    print(f\"Title: {title}\")\n",
    "    print(f\"Outdegree: {row['out_degree']}\")\n",
    "    print(\"#-----------------------------\")\n"
   ]
  },
  {
   "cell_type": "code",
   "execution_count": 33,
   "id": "ac11a0bf",
   "metadata": {},
   "outputs": [
    {
     "data": {
      "text/html": [
       "<div>\n",
       "<style scoped>\n",
       "    .dataframe tbody tr th:only-of-type {\n",
       "        vertical-align: middle;\n",
       "    }\n",
       "\n",
       "    .dataframe tbody tr th {\n",
       "        vertical-align: top;\n",
       "    }\n",
       "\n",
       "    .dataframe thead th {\n",
       "        text-align: right;\n",
       "    }\n",
       "</style>\n",
       "<table border=\"1\" class=\"dataframe\">\n",
       "  <thead>\n",
       "    <tr style=\"text-align: right;\">\n",
       "      <th></th>\n",
       "      <th>source</th>\n",
       "      <th>destination</th>\n",
       "      <th>occurance</th>\n",
       "    </tr>\n",
       "  </thead>\n",
       "  <tbody>\n",
       "    <tr>\n",
       "      <th>0</th>\n",
       "      <td>12</td>\n",
       "      <td>386032</td>\n",
       "      <td>1</td>\n",
       "    </tr>\n",
       "    <tr>\n",
       "      <th>1</th>\n",
       "      <td>33</td>\n",
       "      <td>119026</td>\n",
       "      <td>1</td>\n",
       "    </tr>\n",
       "    <tr>\n",
       "      <th>2</th>\n",
       "      <td>39</td>\n",
       "      <td>150250</td>\n",
       "      <td>1</td>\n",
       "    </tr>\n",
       "    <tr>\n",
       "      <th>3</th>\n",
       "      <td>39</td>\n",
       "      <td>412517</td>\n",
       "      <td>1</td>\n",
       "    </tr>\n",
       "    <tr>\n",
       "      <th>4</th>\n",
       "      <td>39</td>\n",
       "      <td>438351</td>\n",
       "      <td>1</td>\n",
       "    </tr>\n",
       "  </tbody>\n",
       "</table>\n",
       "</div>"
      ],
      "text/plain": [
       "   source  destination  occurance\n",
       "0      12       386032          1\n",
       "1      33       119026          1\n",
       "2      39       150250          1\n",
       "3      39       412517          1\n",
       "4      39       438351          1"
      ]
     },
     "execution_count": 33,
     "metadata": {},
     "output_type": "execute_result"
    }
   ],
   "source": [
    "df_graph_books_final = df_graph_books.groupby(['source','destination']).size().reset_index(name='occurance')\n",
    "df_graph_books_final.head()"
   ]
  },
  {
   "cell_type": "code",
   "execution_count": 34,
   "id": "6c4b11ad",
   "metadata": {},
   "outputs": [],
   "source": [
    "nx_graph = nx.from_pandas_edgelist(\n",
    "    df_graph_books_final, 'source', 'destination', ['occurance']\n",
    ")"
   ]
  },
  {
   "cell_type": "markdown",
   "id": "5c227b90",
   "metadata": {},
   "source": [
    "Analyzing the graph  \n",
    "graph is disconnected beacuse we took a subset"
   ]
  },
  {
   "cell_type": "code",
   "execution_count": 35,
   "id": "16448964",
   "metadata": {
    "scrolled": true
   },
   "outputs": [
    {
     "name": "stdout",
     "output_type": "stream",
     "text": [
      "graph has 45890 nodes and 92249 edges\n"
     ]
    }
   ],
   "source": [
    "num_nodes = nx_graph.number_of_nodes()\n",
    "num_edges = nx_graph.number_of_edges()\n",
    "print(f\"graph has {num_nodes} nodes and {num_edges} edges\")"
   ]
  },
  {
   "cell_type": "code",
   "execution_count": 36,
   "id": "f56f97ad",
   "metadata": {},
   "outputs": [
    {
     "data": {
      "text/plain": [
       "False"
      ]
     },
     "execution_count": 36,
     "metadata": {},
     "output_type": "execute_result"
    }
   ],
   "source": [
    "nx.is_connected(nx_graph)"
   ]
  },
  {
   "cell_type": "code",
   "execution_count": 37,
   "id": "17aa4d3b",
   "metadata": {},
   "outputs": [
    {
     "data": {
      "text/plain": [
       "8.761228579935094e-05"
      ]
     },
     "execution_count": 37,
     "metadata": {},
     "output_type": "execute_result"
    }
   ],
   "source": [
    "nx.density(nx_graph)"
   ]
  },
  {
   "cell_type": "code",
   "execution_count": 38,
   "id": "e07e5cb6",
   "metadata": {},
   "outputs": [
    {
     "name": "stdout",
     "output_type": "stream",
     "text": [
      "graph has 2766 connected components\n"
     ]
    }
   ],
   "source": [
    "num_connected_comps = nx.number_connected_components(nx_graph)\n",
    "print(f\"graph has {num_connected_comps} connected components\")"
   ]
  },
  {
   "cell_type": "markdown",
   "id": "20d1dba9",
   "metadata": {},
   "source": [
    "### Centrality Analysis\n",
    "**Degree Centrality**"
   ]
  },
  {
   "cell_type": "code",
   "execution_count": 39,
   "id": "58e2c89a",
   "metadata": {},
   "outputs": [],
   "source": [
    "dc = nx.degree_centrality(nx_graph)"
   ]
  },
  {
   "cell_type": "code",
   "execution_count": 40,
   "id": "7ec83ad3",
   "metadata": {},
   "outputs": [],
   "source": [
    "sorted_dc = sorted(dc.items(), key=operator.itemgetter(1), reverse=True)"
   ]
  },
  {
   "cell_type": "code",
   "execution_count": 41,
   "id": "43e2a2d0",
   "metadata": {},
   "outputs": [
    {
     "name": "stdout",
     "output_type": "stream",
     "text": [
      "                   Attribute    Node  Centrality Value\n",
      "0  Highest Degree Centrality  199628          0.001787\n"
     ]
    }
   ],
   "source": [
    "df = pd.DataFrame(columns=[\"Attribute\", \"Node\", \"Centrality Value\"])\n",
    "df.loc[len(df)] = [\"Highest Degree Centrality\", sorted_dc[0][0], sorted_dc[0][1]]\n",
    "print(df)"
   ]
  },
  {
   "cell_type": "code",
   "execution_count": 42,
   "id": "e9f07cd6",
   "metadata": {},
   "outputs": [
    {
     "data": {
      "image/png": "[encoded data removed]",
      "text/plain": [
       "<Figure size 1000x700 with 1 Axes>"
      ]
     },
     "metadata": {},
     "output_type": "display_data"
    }
   ],
   "source": [
    "degree_sequence = sorted(dict(nx.degree(nx_graph)).values(), reverse=True)\n",
    "plt.figure(figsize=(10,7))\n",
    "plt.loglog(degree_sequence, 'b-', marker='o')\n",
    "plt.title('Degree Rank Plot')\n",
    "plt.ylabel('Degree')\n",
    "plt.xlabel('Rank')\n",
    "plt.grid()\n",
    "plt.show()"
   ]
  },
  {
   "cell_type": "markdown",
   "id": "2f28a8fa",
   "metadata": {},
   "source": [
    "\"\"\"\n",
    "    Takes in a graph and returns a numpy array of node-degree distribution \n",
    "    in sorted format.\n",
    "\n",
    "    Returns:\n",
    "    --------\n",
    "    numpy array:\n",
    "        A 2D numpy array where each row represents a degree value and its frequency\n",
    "        in the input graph, sorted by ascending degree values.\n",
    "        The first column represents degree values, and the second column represents\n",
    "        the frequency of nodes with that degree value.\n",
    "    \"\"\"\n"
   ]
  },
  {
   "cell_type": "code",
   "execution_count": 43,
   "id": "cb74d658",
   "metadata": {},
   "outputs": [],
   "source": [
    "def get_degree_distribution(graph):\n",
    "    degree_dist = dict(nx.degree(graph))\n",
    "    degree_counts = Counter(degree_dist.values())\n",
    "    sorted_degree_counts = sorted(degree_counts.items(), key=lambda item: item[0])\n",
    "    degree_dist_array = np.array(sorted_degree_counts)\n",
    "    return degree_dist_array\n"
   ]
  },
  {
   "cell_type": "code",
   "execution_count": 44,
   "id": "9e1423fe",
   "metadata": {},
   "outputs": [],
   "source": [
    "degree_distb_graph = get_degree_distribution(nx_graph)"
   ]
  },
  {
   "cell_type": "code",
   "execution_count": 45,
   "id": "dd2156ec",
   "metadata": {
    "scrolled": true
   },
   "outputs": [
    {
     "data": {
      "image/png": "[encoded data removed]",
      "text/plain": [
       "<Figure size 1000x700 with 1 Axes>"
      ]
     },
     "metadata": {},
     "output_type": "display_data"
    }
   ],
   "source": [
    "plt.figure(figsize=(10,7))\n",
    "plt.plot(degree_distb_graph[:,0], degree_distb_graph[:,1])\n",
    "plt.xlabel(\"Degree\")\n",
    "plt.ylabel(f\"# of Nodes having that degree\")\n",
    "plt.title(f\"Node-Degree distb - Amazon Product Book Purchase\")\n",
    "plt.grid()\n",
    "plt.show()"
   ]
  },
  {
   "cell_type": "markdown",
   "id": "5896f5e2",
   "metadata": {},
   "source": [
    "graph shows a heavy-tail or right-skewed distribution, which follows a power law"
   ]
  },
  {
   "cell_type": "code",
   "execution_count": 46,
   "id": "690421b7",
   "metadata": {},
   "outputs": [
    {
     "data": {
      "image/png": "[encoded data removed]",
      "text/plain": [
       "<Figure size 1000x700 with 1 Axes>"
      ]
     },
     "metadata": {},
     "output_type": "display_data"
    }
   ],
   "source": [
    "plt.figure(figsize=(10,7))\n",
    "plt.loglog(degree_distb_graph[:, 0], degree_distb_graph[:, 1])\n",
    "plt.xlabel(\"Degree\")\n",
    "plt.ylabel(f\"# of Nodes having that degree\")\n",
    "plt.title(f\"Log-Log Plot distribution - Amazon Product Book Purchase\")\n",
    "plt.grid()\n",
    "plt.show()"
   ]
  },
  {
   "cell_type": "code",
   "execution_count": 47,
   "id": "5426f87f",
   "metadata": {},
   "outputs": [
    {
     "data": {
      "image/png": "[encoded data removed]",
      "text/plain": [
       "<Figure size 640x480 with 1 Axes>"
      ]
     },
     "metadata": {},
     "output_type": "display_data"
    }
   ],
   "source": [
    "plt.title(\"Histogram Plot for Degree Centrality\")\n",
    "plt.xlabel(\"Degree Centrality\")\n",
    "plt.ylabel(\"# of Nodes\")\n",
    "plt.grid()\n",
    "plt.hist(dc.values());"
   ]
  },
  {
   "cell_type": "code",
   "execution_count": 48,
   "id": "8fb4a372",
   "metadata": {},
   "outputs": [],
   "source": [
    "largest_component = nx.node_connected_component(nx_graph, 199628)\n",
    "# sub_graph = nx_graph.subgraph(largest_component)\n",
    "# position = nx.kamada_kawai_layout(sub_graph)"
   ]
  },
  {
   "cell_type": "code",
   "execution_count": 49,
   "id": "22ff57a4",
   "metadata": {},
   "outputs": [],
   "source": [
    "sub_graph = nx_graph.subgraph(largest_component)"
   ]
  },
  {
   "cell_type": "code",
   "execution_count": 50,
   "id": "74d0e4e8",
   "metadata": {},
   "outputs": [],
   "source": [
    "# position = nx.kamada_kawai_layout(sub_graph)"
   ]
  },
  {
   "cell_type": "code",
   "execution_count": 51,
   "id": "1b4f2a27",
   "metadata": {},
   "outputs": [],
   "source": [
    "# colormap = plt.cm.get_cmap('Spectral')\n",
    "\n",
    "node_degrees = dict(sub_graph.degree())\n",
    "nodes = dict(sub_graph.nodes())\n",
    "node_colors = np.asarray([node_degrees[n] for n in nodes ])\n",
    "node_edges = dict(sub_graph.edges())\n",
    "node_weights = [sub_graph[s][d]['occurance'] for s, d in node_edges]"
   ]
  },
  {
   "cell_type": "code",
   "execution_count": 52,
   "id": "1785f314",
   "metadata": {},
   "outputs": [],
   "source": [
    "colors = range(87)\n",
    "vmin,vmax = min(colors), max(colors)"
   ]
  },
  {
   "cell_type": "code",
   "execution_count": null,
   "id": "ac9618c6",
   "metadata": {},
   "outputs": [],
   "source": [
    "picture = nx.draw_kamada_kawai(\n",
    "    sub_graph,\n",
    "    k = 1.2,\n",
    "    with_labels = False,\n",
    "    nodelist = node_degrees.keys(),\n",
    "    node_size = [vertex * 30 for vertex in node_degrees.values()],\n",
    "    cmap = plt.cm.get_cmap('Spectral'),\n",
    "    width = node_weights,\n",
    "    arrows = True,\n",
    "    node_color = node_colors,\n",
    "    vmin = vmin,\n",
    "    vmax = vmax\n",
    ")"
   ]
  },
  {
   "cell_type": "code",
   "execution_count": null,
   "id": "1945a00f",
   "metadata": {},
   "outputs": [],
   "source": [
    "fig, ax = subplots()\n",
    "plt.xticks(list(), list())\n",
    "plt.yticks(list(), list())\n",
    "flg = plt.gcf()\n",
    "fig.set_size_inches(50, 50)\n",
    "scalar_map = plt.cm.ScalarMappable(\n",
    "    cmap = plt.cm.get_cmap('Spectral'),\n",
    "    norm = plt.Normalize(vmin=vmin, vmax=vmax)\n",
    ")\n",
    "scalar_map._A = []\n",
    "\n",
    "colorbar = plt.colorbar(scalar_map, aspect = 40)\n",
    "colorbar.ax.tick_params(labelsize = 30)\n",
    "plt.figure(dpi = 1200)\n",
    "plt.show()"
   ]
  },
  {
   "cell_type": "code",
   "execution_count": null,
   "id": "55ea8b5f",
   "metadata": {},
   "outputs": [],
   "source": [
    "degree_seq = [deg for nod, deg in sub_graph.degree()]\n",
    "degree_seq.sort(reverse=True)\n",
    "\n",
    "degree_count = Counter(degree_seq)\n",
    "\n",
    "degr, count = zip(*degree_count.items())\n",
    "\n",
    "fig, ax = plt.subplots()\n",
    "plt.bar(degr, count, width=0.7, color='g')\n",
    "\n",
    "plt.title(\"Histogram for Node Deg distb\")\n",
    "plt.ylabel(\"Node Count\")\n",
    "plt.xlabel(\"Node Degree\")\n",
    "fig = plt.gcf()\n",
    "fig.set_size_inches(10,7)\n",
    "plt.show()"
   ]
  },
  {
   "cell_type": "code",
   "execution_count": null,
   "id": "365b007e",
   "metadata": {},
   "outputs": [],
   "source": [
    "sub_graph_density = nx.density(sub_graph)\n",
    "(f\"the sub graph density is {sub_graph_density}\")"
   ]
  },
  {
   "cell_type": "code",
   "execution_count": null,
   "id": "0adc5708",
   "metadata": {},
   "outputs": [],
   "source": [
    "sub_graph_deg_centrality = nx.degree_centrality(sub_graph)"
   ]
  },
  {
   "cell_type": "code",
   "execution_count": null,
   "id": "9cdad6fb",
   "metadata": {},
   "outputs": [],
   "source": [
    "degree_distb_sub_graph = get_degree_distribution(sub_graph)\n",
    "plt.figure(figsize=(10,7))\n",
    "plt.plot(degree_distb_sub_graph[:,0], degree_distb_sub_graph[:,1])\n",
    "plt.xlabel(\"Degree\")\n",
    "plt.ylabel(f\"# of Nodes having that degree\")\n",
    "plt.title(f\"Node-Degree distb - Amazon Product Book Purchase for Prominent Book\")\n",
    "plt.grid()\n",
    "plt.show()"
   ]
  },
  {
   "cell_type": "code",
   "execution_count": null,
   "id": "36f5f5a1",
   "metadata": {},
   "outputs": [],
   "source": [
    "social_dendrogram = community.generate_dendrogram(sub_graph)\n",
    "print(f\"Number of levels in the Dendrogram: {len(social_dendrogram)}\")"
   ]
  },
  {
   "cell_type": "code",
   "execution_count": null,
   "id": "aaaa0611",
   "metadata": {},
   "outputs": [],
   "source": [
    "#  reference - referred the ipynb given by professor for drawing the dendrogram\n",
    "def draw_dendrogram(dendrogram):\n",
    "    digraph = nx.DiGraph()\n",
    "    last_part = None\n",
    "    \n",
    "    for level_idx, part in enumerate(dendrogram):\n",
    "        print(f\"Level: {level_idx}, Num nodes in level: {len(part)}\")\n",
    "        \n",
    "        for node, comunity in part.items():\n",
    "            naming = f\"l={level_idx}_{comunity}\"\n",
    "            digraph.add_node(naming, comm=comunity, color=level_idx+1)\n",
    "            \n",
    "            if level_idx == 0:\n",
    "                digraph.add_node(node, comm=comunity, color=0)\n",
    "                digraph.add_edge(naming, node)\n",
    "            else:\n",
    "                digraph.add_edge(naming, f\"l={level_idx-1}_{node}\")\n",
    "        last_part = part\n",
    "        \n",
    "    plt.figure(figsize=(15, 10))\n",
    "    \n",
    "    colors = list(nx.get_node_attributes(digraph, \"color\").values())\n",
    "    \n",
    "    layout = graphviz_layout(digraph, prog=\"dot\")\n",
    "    nx.draw(digraph, layout, with_labels=True, arrows=False, node_color=colors,\n",
    "           vmin=0, vmax=len(dendrogram)+1, cmap=plt.cm.tab20)"
   ]
  },
  {
   "cell_type": "code",
   "execution_count": null,
   "id": "b88e3d3a",
   "metadata": {},
   "outputs": [],
   "source": [
    "# draw_dendrogram(social_dendrogram)"
   ]
  },
  {
   "cell_type": "code",
   "execution_count": null,
   "id": "ee53340b",
   "metadata": {},
   "outputs": [],
   "source": []
  }
 ],
 "metadata": {
  "kernelspec": {
   "display_name": "Python 3 (ipykernel)",
   "language": "python",
   "name": "python3"
  },
  "language_info": {
   "codemirror_mode": {
    "name": "ipython",
    "version": 3
   },
   "file_extension": ".py",
   "mimetype": "text/x-python",
   "name": "python",
   "nbconvert_exporter": "python",
   "pygments_lexer": "ipython3",
   "version": "3.9.13"
  }
 },
 "nbformat": 4,
 "nbformat_minor": 5
}
