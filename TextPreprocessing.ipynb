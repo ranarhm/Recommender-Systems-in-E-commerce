{
 "cells": [
  {
   "cell_type": "code",
   "execution_count": 1,
   "id": "86edeb63",
   "metadata": {},
   "outputs": [],
   "source": [
    "import os\n",
    "import numpy as np\n",
    "import pandas as pd\n",
    "import csv\n",
    "import re\n",
    "import sys"
   ]
  },
  {
   "cell_type": "code",
   "execution_count": 5,
   "id": "9d2399eb",
   "metadata": {},
   "outputs": [],
   "source": [
    "meta_text_path = os.path.join(os.getcwd(), \"datasets\\amazon-meta.txt\")"
   ]
  },
  {
   "cell_type": "code",
   "execution_count": 6,
   "id": "8c1665d8",
   "metadata": {},
   "outputs": [],
   "source": [
    "meta_file = open(meta_text_path, \"r\", encoding=\"utf8\")\n",
    "meta_lines = meta_file.readlines()"
   ]
  },
  {
   "cell_type": "code",
   "execution_count": 11,
   "id": "98567318",
   "metadata": {},
   "outputs": [],
   "source": [
    "meta_file.seek(0)\n",
    "meta_data = meta_file.read()"
   ]
  },
  {
   "cell_type": "code",
   "execution_count": 12,
   "id": "a4fb7b74",
   "metadata": {},
   "outputs": [],
   "source": [
    "all_ids = [(m.start(0), m.end(0)) for m in re.finditer(\"Id:   \\d+\", meta_data)]"
   ]
  },
  {
   "cell_type": "code",
   "execution_count": 19,
   "id": "6a3dd5a8",
   "metadata": {},
   "outputs": [],
   "source": [
    "def getIDnumber(l):\n",
    "    return re.search(\"Id:   (\\d+)\", l).group(1) if re.search(\"Id:   (\\d+)\", l) else '-1'\n",
    "\n",
    "def getASINnumber(l):\n",
    "    return re.search(\"ASIN: (\\w+)\", l).group(1) if re.search(\"ASIN: (\\w+)\", l) else '-1'\n",
    "\n",
    "def getTitle(id_content, start, end):\n",
    "    pattern = re.compile(\"title: ([A-Za-z0-9:\\s\\_\\-\\;\\,\\?\\!\\(\\)\\&]+)\")\n",
    "    data = id_content[start: end].strip(\"\\n\")\n",
    "    return pattern.search(data).group(1).replace(\",\", \" \") if pattern.search(data) else '-1'\n",
    "\n",
    "def getGroup(id_content, start, end):\n",
    "    pattern = re.compile(\"group:\\s+(\\w+)\")\n",
    "    data = id_content[start: end].strip(\"\\n\")\n",
    "    return pattern.search(data).group(1) if pattern.search(data) else '-1'\n",
    "\n",
    "def getSalesrank(id_content, start, end):\n",
    "    pattern = re.compile(\"salesrank: (\\w+)\")\n",
    "    data = id_content[start: end].strip(\"\\n\")\n",
    "    return pattern.search(data).group(1) if pattern.search(data) else '-1'\n",
    "\n",
    "def getSimilar(id_content, start, end):\n",
    "    data = id_content[start: end].strip(\"\\n\")\n",
    "    return re.findall(\"\\w+\", data)[2:] if len(data) > 0 else []\n",
    "\n",
    "def getCategories(id_content, start, end):\n",
    "    data = id_content[start: end].strip(\"\\n\")\n",
    "    cats = re.findall(\"\\w+\", data)\n",
    "    num_cats = cats[1]\n",
    "    cats_set = set(cat for cat in cats[2:] if cat.isalpha())\n",
    "    return int(num_cats), list(cats_set)\n",
    "\n",
    "def getReviews(id_content, start, end, get_rating=True):\n",
    "    data = id_content[start: end].strip(\"\\n\")\n",
    "    revs = data.split(\"\\n\")\n",
    "    total, down, avg = re.search(\"reviews: total: (\\d+)  downloaded: (\\d+)  avg rating: ([0-9\\.]+)\", data).groups()\n",
    "    usr_revs = []\n",
    "    for rev in revs[1:]:\n",
    "        cnts = re.findall('\\w+', rev)\n",
    "        date = f\"{cnts[0]}-{cnts[1]}-{cnts[2]}\"\n",
    "        customer_id, rating, votes, helpful = cnts[4], cnts[6], cnts[8], cnts[10]\n",
    "        usr_revs.append([date, customer_id, rating, votes, helpful, down, avg])\n",
    "    if get_rating:\n",
    "        return [len(usr_revs), down, avg]\n",
    "    else:\n",
    "        return usr_revs\n",
    "\n"
   ]
  },
  {
   "cell_type": "code",
   "execution_count": 21,
   "id": "ce86c39c",
   "metadata": {},
   "outputs": [],
   "source": [
    "def parse_id(id_content):\n",
    "    data = id_content.split(\"\\n\")\n",
    "    id_number = getIDnumber(data[0])\n",
    "    asin_number = getASINnumber(data[1])\n",
    "    # check if product is discontinued\n",
    "    if \"discontinued product\" in data[2]:\n",
    "        return [False, id_number, asin_number]\n",
    "    \n",
    "    try:\n",
    "        title_index = id_content.index(\"title:\")\n",
    "        group_index = id_content.index(\"group:\")\n",
    "        srank_index = id_content.index(\"salesrank:\")\n",
    "        simil_index = id_content.index(\"similar:\")\n",
    "        categ_index = id_content.index(\"categories:\")\n",
    "        revie_index = id_content.index(\"reviews:\")\n",
    "    except ValueError as e:\n",
    "        print(f\"Issue with Id: {id_number}, error: {e}\")\n",
    "        return [False, id_number, asin_number]\n",
    "\n",
    "    title = getTitle(id_content, title_index, group_index)\n",
    "    group = getGroup(id_content, group_index, srank_index)\n",
    "    salesrank = getSalesrank(id_content, srank_index, simil_index)\n",
    "    similar = getSimilar(id_content, simil_index, categ_index)\n",
    "    categories = getCategories(id_content, categ_index, revie_index)\n",
    "    reviews = getReviews(id_content, revie_index, len(id_content), get_rating=True)\n",
    "\n",
    "    return [True, id_number, asin_number, title, group, salesrank, similar, categories, reviews]\n"
   ]
  },
  {
   "cell_type": "code",
   "execution_count": 22,
   "id": "bd050ff5",
   "metadata": {},
   "outputs": [],
   "source": [
    "last_idx = len(all_ids)"
   ]
  },
  {
   "cell_type": "code",
   "execution_count": 23,
   "id": "e130daf2",
   "metadata": {},
   "outputs": [
    {
     "name": "stdout",
     "output_type": "stream",
     "text": [
      "0 1000 2000 3000 4000 5000 6000 7000 8000 9000 10000 11000 12000 13000 14000 15000 16000 17000 18000 19000 20000 21000 22000 23000 24000 25000 26000 27000 28000 29000 30000 31000 32000 33000 34000 35000 36000 37000 38000 39000 40000 41000 42000 43000 44000 45000 46000 47000 48000 49000 50000 51000 52000 53000 54000 55000 56000 57000 58000 59000 60000 61000 62000 63000 64000 65000 66000 67000 68000 69000 70000 71000 72000 73000 74000 75000 76000 77000 78000 79000 80000 81000 82000 83000 84000 85000 86000 87000 88000 89000 90000 91000 92000 93000 94000 95000 96000 97000 98000 99000 100000 101000 102000 103000 104000 105000 106000 107000 108000 109000 110000 111000 112000 113000 114000 115000 116000 117000 118000 119000 120000 121000 122000 123000 124000 125000 126000 127000 128000 129000 130000 131000 132000 133000 134000 135000 136000 137000 138000 139000 140000 141000 142000 143000 144000 145000 146000 147000 148000 149000 150000 151000 152000 153000 154000 155000 156000 157000 158000 159000 160000 161000 162000 163000 164000 165000 166000 167000 168000 169000 170000 171000 172000 173000 174000 175000 176000 177000 178000 179000 180000 181000 182000 183000 184000 185000 186000 187000 188000 189000 190000 191000 192000 193000 194000 195000 196000 197000 198000 199000 200000 201000 202000 203000 204000 205000 206000 207000 208000 209000 210000 211000 212000 213000 214000 215000 216000 217000 218000 219000 220000 221000 222000 223000 224000 225000 226000 227000 228000 229000 230000 231000 232000 233000 234000 235000 236000 237000 238000 239000 240000 241000 242000 243000 244000 245000 246000 247000 248000 249000 250000 251000 252000 253000 254000 255000 256000 257000 258000 259000 260000 261000 262000 263000 264000 265000 266000 267000 268000 269000 270000 271000 272000 273000 274000 275000 276000 277000 278000 279000 280000 281000 282000 283000 284000 285000 286000 287000 288000 289000 290000 291000 292000 293000 294000 295000 296000 297000 298000 299000 300000 301000 302000 303000 304000 305000 306000 307000 308000 309000 310000 311000 312000 313000 314000 315000 316000 317000 318000 319000 320000 321000 322000 323000 324000 325000 326000 327000 328000 329000 330000 331000 332000 333000 334000 335000 336000 337000 338000 339000 340000 341000 342000 343000 344000 345000 346000 347000 348000 349000 350000 351000 352000 353000 354000 355000 356000 357000 358000 359000 360000 361000 362000 363000 364000 365000 366000 367000 368000 369000 370000 371000 372000 373000 374000 375000 376000 377000 378000 379000 380000 381000 382000 383000 384000 385000 386000 387000 388000 389000 390000 391000 392000 393000 394000 395000 396000 397000 398000 399000 400000 401000 402000 403000 404000 405000 406000 407000 408000 409000 410000 411000 412000 413000 414000 415000 416000 417000 418000 419000 420000 421000 422000 423000 424000 425000 426000 427000 428000 429000 430000 431000 432000 433000 434000 435000 436000 437000 438000 439000 440000 441000 442000 443000 444000 445000 446000 447000 448000 449000 450000 451000 452000 453000 454000 455000 456000 457000 458000 459000 460000 461000 462000 463000 464000 465000 466000 467000 468000 469000 470000 471000 472000 473000 474000 475000 476000 477000 478000 479000 480000 481000 482000 483000 484000 485000 486000 487000 488000 489000 490000 491000 492000 493000 494000 495000 496000 497000 498000 499000 500000 501000 502000 503000 504000 505000 506000 507000 508000 509000 510000 511000 512000 513000 514000 515000 516000 517000 518000 519000 520000 521000 522000 523000 524000 525000 526000 527000 528000 529000 530000 531000 532000 533000 534000 535000 536000 537000 538000 539000 540000 541000 542000 543000 544000 545000 546000 547000 548000 "
     ]
    }
   ],
   "source": [
    "from collections import defaultdict\n",
    "\n",
    "product_copurchase_adj_list = defaultdict(list)\n",
    "id_asin_map = defaultdict(str)\n",
    "\n",
    "with open(\"products_data.csv\", \"w\") as outfile:\n",
    "    outfile.write(\"id,asin,title,group,salesrank,review_cnt,downloads,rating\\n\")\n",
    "    for id_idx in range(len(all_ids)-1):\n",
    "        if id_idx != last_idx:\n",
    "            id_text = meta_data[all_ids[id_idx][0]: all_ids[id_idx+1][0]]\n",
    "        else:\n",
    "            id_text = meta_data[all_ids[id_idx][0]: ]\n",
    "        if id_idx % 1000 == 0:\n",
    "            print(id_idx, end=\" \")\n",
    "\n",
    "        try:\n",
    "            parsed_data = parse_id(id_text)\n",
    "            id_asin_map[parsed_data[1]] = parsed_data[2]\n",
    "        \n",
    "            if parsed_data[0]:\n",
    "                parsed_data[3] = parsed_data[3].strip()\n",
    "                id_row = f\"{parsed_data[1]},{parsed_data[2]},{parsed_data[3]},{parsed_data[4]},{parsed_data[5]},{parsed_data[8][0]},{parsed_data[8][1]},{parsed_data[8][2]}\\n\"\n",
    "                outfile.write(id_row)\n",
    "                for similar_prod in parsed_data[6]:\n",
    "                    product_copurchase_adj_list[parsed_data[2]].append(similar_prod)\n",
    "        except Exception as e:\n",
    "            print(f\"Error with Id: {parsed_data[1]}, {e}\")\n"
   ]
  },
  {
   "cell_type": "code",
   "execution_count": 24,
   "id": "a76eacac",
   "metadata": {},
   "outputs": [],
   "source": [
    "asin_id_map = {}\n",
    "for k, v in id_asin_map.items():\n",
    "    asin_id_map[v] = k"
   ]
  },
  {
   "cell_type": "code",
   "execution_count": 25,
   "id": "65205403",
   "metadata": {},
   "outputs": [
    {
     "name": "stdout",
     "output_type": "stream",
     "text": [
      "0 errors encountered during processing.\n",
      "Done\n"
     ]
    }
   ],
   "source": [
    "with open(\"products_copurchases_links.csv\", \"w\") as outfile:\n",
    "    outfile.write(\"source,destination\\n\")\n",
    "    num_errors = 0\n",
    "    \n",
    "    for source, neighbors in product_copurchase_adj_list.items():\n",
    "        try:\n",
    "            source_id = asin_id_map.get(source)\n",
    "            if source_id is None:\n",
    "                continue\n",
    "                \n",
    "            for neighbor in neighbors:\n",
    "                neighbor_id = asin_id_map.get(neighbor)\n",
    "                if neighbor_id is not None:\n",
    "                    outfile.write(f\"{source_id},{neighbor_id}\\n\")\n",
    "        except Exception as e:\n",
    "            print(f\"Error processing source {source}: {e}\")\n",
    "            num_errors += 1\n",
    "            \n",
    "    print(f\"{num_errors} errors encountered during processing.\")\n",
    "    print(\"Done\")"
   ]
  },
  {
   "cell_type": "code",
   "execution_count": 26,
   "id": "3b51a8db",
   "metadata": {},
   "outputs": [
    {
     "data": {
      "text/plain": [
       "'B00000ADJO'"
      ]
     },
     "execution_count": 26,
     "metadata": {},
     "output_type": "execute_result"
    }
   ],
   "source": [
    "id_asin_map['335158']"
   ]
  },
  {
   "cell_type": "code",
   "execution_count": 27,
   "id": "77877f4e",
   "metadata": {},
   "outputs": [
    {
     "name": "stdout",
     "output_type": "stream",
     "text": [
      "/Users/rana/Documents/School/Spring23/Social Media Analytics-CS5664/Homeworks/Project/datasets\n"
     ]
    }
   ],
   "source": [
    "dataset_path = os.path.join(os.getcwd(), \"datasets\")\n",
    "print(dataset_path)"
   ]
  },
  {
   "cell_type": "code",
   "execution_count": 28,
   "id": "df0b1d01",
   "metadata": {},
   "outputs": [
    {
     "data": {
      "text/plain": [
       "['com-amazon.all.dedup.cmty.txt',\n",
       " '.DS_Store',\n",
       " 'amazon-meta.txt.gz',\n",
       " 'amazon-meta.txt',\n",
       " 'com-amazon.top5000.cmty.txt',\n",
       " 'Amazon0302.txt',\n",
       " 'com-amazon.ungraph.txt']"
      ]
     },
     "execution_count": 28,
     "metadata": {},
     "output_type": "execute_result"
    }
   ],
   "source": [
    "os.listdir(dataset_path)"
   ]
  },
  {
   "cell_type": "code",
   "execution_count": 29,
   "id": "94c82b91",
   "metadata": {},
   "outputs": [],
   "source": [
    "prod_path = os.path.join(dataset_path, \"products_data.csv\")\n",
    "prod_graph_path = os.path.join(dataset_path, \"products_copurchases_links.csv\")"
   ]
  },
  {
   "cell_type": "code",
   "execution_count": 31,
   "id": "c6e2b5b2",
   "metadata": {
    "scrolled": true
   },
   "outputs": [
    {
     "data": {
      "text/plain": [
       "'/Users/rana/Documents/School/Spring23/Social Media Analytics-CS5664/Homeworks/Project/datasets/products_data.csv'"
      ]
     },
     "execution_count": 31,
     "metadata": {},
     "output_type": "execute_result"
    }
   ],
   "source": [
    "prod_path"
   ]
  },
  {
   "cell_type": "code",
   "execution_count": 33,
   "id": "af433567",
   "metadata": {},
   "outputs": [
    {
     "data": {
      "text/plain": [
       "'/Users/rana/Documents/School/Spring23/Social Media Analytics-CS5664/Homeworks/Project/datasets/products_copurchases_links.csv'"
      ]
     },
     "execution_count": 33,
     "metadata": {},
     "output_type": "execute_result"
    }
   ],
   "source": [
    "prod_graph_path"
   ]
  },
  {
   "cell_type": "code",
   "execution_count": 36,
   "id": "ac11b475",
   "metadata": {
    "scrolled": true
   },
   "outputs": [
    {
     "data": {
      "text/html": [
       "<div>\n",
       "<style scoped>\n",
       "    .dataframe tbody tr th:only-of-type {\n",
       "        vertical-align: middle;\n",
       "    }\n",
       "\n",
       "    .dataframe tbody tr th {\n",
       "        vertical-align: top;\n",
       "    }\n",
       "\n",
       "    .dataframe thead th {\n",
       "        text-align: right;\n",
       "    }\n",
       "</style>\n",
       "<table border=\"1\" class=\"dataframe\">\n",
       "  <thead>\n",
       "    <tr style=\"text-align: right;\">\n",
       "      <th></th>\n",
       "      <th>id</th>\n",
       "      <th>asin</th>\n",
       "      <th>title</th>\n",
       "      <th>group</th>\n",
       "      <th>salesrank</th>\n",
       "      <th>review_cnt</th>\n",
       "      <th>downloads</th>\n",
       "      <th>rating</th>\n",
       "    </tr>\n",
       "  </thead>\n",
       "  <tbody>\n",
       "    <tr>\n",
       "      <th>0</th>\n",
       "      <td>1</td>\n",
       "      <td>0827229534</td>\n",
       "      <td>Patterns of Preaching: A Sermon Sampler</td>\n",
       "      <td>Book</td>\n",
       "      <td>396585</td>\n",
       "      <td>2</td>\n",
       "      <td>2</td>\n",
       "      <td>5.0</td>\n",
       "    </tr>\n",
       "    <tr>\n",
       "      <th>1</th>\n",
       "      <td>2</td>\n",
       "      <td>0738700797</td>\n",
       "      <td>Candlemas: Feast of Flames</td>\n",
       "      <td>Book</td>\n",
       "      <td>168596</td>\n",
       "      <td>12</td>\n",
       "      <td>12</td>\n",
       "      <td>4.5</td>\n",
       "    </tr>\n",
       "    <tr>\n",
       "      <th>2</th>\n",
       "      <td>3</td>\n",
       "      <td>0486287785</td>\n",
       "      <td>World War II Allied Fighter Planes Trading Cards</td>\n",
       "      <td>Book</td>\n",
       "      <td>1270652</td>\n",
       "      <td>1</td>\n",
       "      <td>1</td>\n",
       "      <td>5.0</td>\n",
       "    </tr>\n",
       "    <tr>\n",
       "      <th>3</th>\n",
       "      <td>4</td>\n",
       "      <td>0842328327</td>\n",
       "      <td>Life Application Bible Commentary: 1 and 2 Tim...</td>\n",
       "      <td>Book</td>\n",
       "      <td>631289</td>\n",
       "      <td>1</td>\n",
       "      <td>1</td>\n",
       "      <td>4.0</td>\n",
       "    </tr>\n",
       "    <tr>\n",
       "      <th>4</th>\n",
       "      <td>5</td>\n",
       "      <td>1577943082</td>\n",
       "      <td>Prayers That Avail Much for Business: Executive</td>\n",
       "      <td>Book</td>\n",
       "      <td>455160</td>\n",
       "      <td>0</td>\n",
       "      <td>0</td>\n",
       "      <td>0.0</td>\n",
       "    </tr>\n",
       "  </tbody>\n",
       "</table>\n",
       "</div>"
      ],
      "text/plain": [
       "   id        asin                                              title group  \\\n",
       "0   1  0827229534            Patterns of Preaching: A Sermon Sampler  Book   \n",
       "1   2  0738700797                         Candlemas: Feast of Flames  Book   \n",
       "2   3  0486287785   World War II Allied Fighter Planes Trading Cards  Book   \n",
       "3   4  0842328327  Life Application Bible Commentary: 1 and 2 Tim...  Book   \n",
       "4   5  1577943082    Prayers That Avail Much for Business: Executive  Book   \n",
       "\n",
       "   salesrank  review_cnt  downloads  rating  \n",
       "0     396585           2          2     5.0  \n",
       "1     168596          12         12     4.5  \n",
       "2    1270652           1          1     5.0  \n",
       "3     631289           1          1     4.0  \n",
       "4     455160           0          0     0.0  "
      ]
     },
     "execution_count": 36,
     "metadata": {},
     "output_type": "execute_result"
    }
   ],
   "source": [
    "df = pd.read_csv(prod_path, encoding = 'unicode_escape')\n",
    "df.head(5)"
   ]
  },
  {
   "cell_type": "code",
   "execution_count": 37,
   "id": "dc542985",
   "metadata": {},
   "outputs": [
    {
     "data": {
      "text/html": [
       "<div>\n",
       "<style scoped>\n",
       "    .dataframe tbody tr th:only-of-type {\n",
       "        vertical-align: middle;\n",
       "    }\n",
       "\n",
       "    .dataframe tbody tr th {\n",
       "        vertical-align: top;\n",
       "    }\n",
       "\n",
       "    .dataframe thead th {\n",
       "        text-align: right;\n",
       "    }\n",
       "</style>\n",
       "<table border=\"1\" class=\"dataframe\">\n",
       "  <thead>\n",
       "    <tr style=\"text-align: right;\">\n",
       "      <th></th>\n",
       "      <th>source</th>\n",
       "      <th>destination</th>\n",
       "    </tr>\n",
       "  </thead>\n",
       "  <tbody>\n",
       "    <tr>\n",
       "      <th>0</th>\n",
       "      <td>1</td>\n",
       "      <td>161555</td>\n",
       "    </tr>\n",
       "    <tr>\n",
       "      <th>1</th>\n",
       "      <td>1</td>\n",
       "      <td>244916</td>\n",
       "    </tr>\n",
       "    <tr>\n",
       "      <th>2</th>\n",
       "      <td>1</td>\n",
       "      <td>118052</td>\n",
       "    </tr>\n",
       "    <tr>\n",
       "      <th>3</th>\n",
       "      <td>1</td>\n",
       "      <td>444232</td>\n",
       "    </tr>\n",
       "    <tr>\n",
       "      <th>4</th>\n",
       "      <td>1</td>\n",
       "      <td>500600</td>\n",
       "    </tr>\n",
       "  </tbody>\n",
       "</table>\n",
       "</div>"
      ],
      "text/plain": [
       "   source  destination\n",
       "0       1       161555\n",
       "1       1       244916\n",
       "2       1       118052\n",
       "3       1       444232\n",
       "4       1       500600"
      ]
     },
     "execution_count": 37,
     "metadata": {},
     "output_type": "execute_result"
    }
   ],
   "source": [
    "network_df = pd.read_csv(prod_graph_path, encoding = 'unicode_escape')\n",
    "network_df.head(5)"
   ]
  },
  {
   "cell_type": "code",
   "execution_count": 38,
   "id": "f5131320",
   "metadata": {},
   "outputs": [
    {
     "data": {
      "text/plain": [
       "(542683, 8)"
      ]
     },
     "execution_count": 38,
     "metadata": {},
     "output_type": "execute_result"
    }
   ],
   "source": [
    "df.shape"
   ]
  },
  {
   "cell_type": "code",
   "execution_count": 39,
   "id": "4bae7e51",
   "metadata": {},
   "outputs": [
    {
     "data": {
      "text/plain": [
       "array(['Book', 'Music', 'DVD', 'Video', 'Toy', 'Software', 'Baby', 'CE',\n",
       "       'Sports', 'A'], dtype=object)"
      ]
     },
     "execution_count": 39,
     "metadata": {},
     "output_type": "execute_result"
    }
   ],
   "source": [
    "df[\"group\"].unique()"
   ]
  },
  {
   "cell_type": "code",
   "execution_count": 40,
   "id": "e038e5a8",
   "metadata": {
    "scrolled": false
   },
   "outputs": [
    {
     "data": {
      "text/plain": [
       "Book        393560\n",
       "Music       103143\n",
       "Video        26132\n",
       "DVD          19828\n",
       "Toy              8\n",
       "Software         5\n",
       "CE               4\n",
       "A                1\n",
       "Sports           1\n",
       "Baby             1\n",
       "Name: group, dtype: int64"
      ]
     },
     "execution_count": 40,
     "metadata": {},
     "output_type": "execute_result"
    }
   ],
   "source": [
    "df[\"group\"].value_counts()"
   ]
  },
  {
   "cell_type": "code",
   "execution_count": null,
   "id": "21e89231",
   "metadata": {},
   "outputs": [],
   "source": []
  },
  {
   "cell_type": "code",
   "execution_count": null,
   "id": "9275a941",
   "metadata": {},
   "outputs": [],
   "source": []
  },
  {
   "cell_type": "code",
   "execution_count": null,
   "id": "c0bf9ead",
   "metadata": {},
   "outputs": [],
   "source": []
  },
  {
   "cell_type": "code",
   "execution_count": null,
   "id": "48199ff4",
   "metadata": {},
   "outputs": [],
   "source": []
  }
 ],
 "metadata": {
  "kernelspec": {
   "display_name": "Python 3 (ipykernel)",
   "language": "python",
   "name": "python3"
  },
  "language_info": {
   "codemirror_mode": {
    "name": "ipython",
    "version": 3
   },
   "file_extension": ".py",
   "mimetype": "text/x-python",
   "name": "python",
   "nbconvert_exporter": "python",
   "pygments_lexer": "ipython3",
   "version": "3.9.13"
  }
 },
 "nbformat": 4,
 "nbformat_minor": 5
}
